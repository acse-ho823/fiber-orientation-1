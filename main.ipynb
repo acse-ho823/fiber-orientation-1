{
 "cells": [
  {
   "cell_type": "markdown",
   "metadata": {},
   "source": [
    "# Import the Libraries"
   ]
  },
  {
   "cell_type": "code",
   "execution_count": 218,
   "metadata": {},
   "outputs": [],
   "source": [
    "import numpy as np\n",
    "import cv2\n",
    "import matplotlib.pyplot as plt\n",
    "\n",
    "from skimage.feature import hog\n",
    "from skimage import exposure\n",
    "from skimage import feature\n",
    "\n",
    "from pandas import read_excel\n",
    "\n",
    "from sklearn.preprocessing import StandardScaler\n",
    "from sklearn.decomposition import PCA\n",
    "\n",
    "from sklearn.svm import SVR\n",
    "from sklearn.model_selection import GridSearchCV\n",
    "from sklearn.model_selection import train_test_split\n",
    "from sklearn.preprocessing import StandardScaler\n",
    "from sklearn.metrics import mean_absolute_error, r2_score\n"
   ]
  },
  {
   "cell_type": "markdown",
   "metadata": {},
   "source": [
    "## HOG Feature Extraction"
   ]
  },
  {
   "cell_type": "code",
   "execution_count": 219,
   "metadata": {},
   "outputs": [
    {
     "name": "stdout",
     "output_type": "stream",
     "text": [
      "(786, 72)\n",
      "0.013411789652247668\n"
     ]
    }
   ],
   "source": [
    "from IPython.display import clear_output\n",
    "\n",
    "def get_feature_vector(image_directory, grid_q= 4, orientation= 8):\n",
    "    img= cv2.imread(image_directory, cv2.IMREAD_GRAYSCALE)\n",
    "    edges= cv2.Canny(img, 50, 200)\n",
    "\n",
    "    hog_features = hog(img, orientations= orientation, pixels_per_cell= (int(img.shape[0]/grid_q), int(img.shape[1]/grid_q)),\n",
    "                    cells_per_block=(1, 1), feature_vector= True)\n",
    "\n",
    "    return hog_features\n",
    "\n",
    "\n",
    "feature_matrix= []\n",
    "for i in range(1, 1000):\n",
    "    img_dir= \"./pictures/\" + str(i) + \".png\"\n",
    "    try:\n",
    "        feature_vec= get_feature_vector(img_dir, grid_q= 3, orientation= 8)\n",
    "        feature_matrix.append(feature_vec)\n",
    "    except:\n",
    "        pass\n",
    "\n",
    "clear_output()\n",
    "feature_matrix= np.array(feature_matrix)\n",
    "\n",
    "print(feature_matrix.shape)\n",
    "print(sum(sum(feature_matrix== 0))/feature_matrix.size)"
   ]
  },
  {
   "cell_type": "markdown",
   "metadata": {},
   "source": [
    "### Scale & PCA"
   ]
  },
  {
   "cell_type": "code",
   "execution_count": 220,
   "metadata": {},
   "outputs": [
    {
     "name": "stdout",
     "output_type": "stream",
     "text": [
      "(786, 36)\n"
     ]
    }
   ],
   "source": [
    "pca= PCA()\n",
    "principal_components= pca.fit_transform(feature_matrix)\n",
    "required_variance= .9\n",
    "no_components= sum(pca.explained_variance_ratio_.cumsum() < required_variance) + 1\n",
    "\n",
    "pca_var= PCA(no_components)\n",
    "principal_matrix= pca_var.fit_transform(feature_matrix)\n",
    "\n",
    "with open(\"labels.csv\") as f:\n",
    "    l= f.read()\n",
    "    try: # Mac\n",
    "        int(l[1:2])\n",
    "        l= l[1:]\n",
    "    except: # Windows\n",
    "        l= l[3:]\n",
    "    \n",
    "    labels= np.array(l.split(), dtype= int)\n",
    "\n",
    "nonzero_index= labels!= 0\n",
    "labels= labels[nonzero_index]\n",
    "principal_matrix= principal_matrix[nonzero_index]\n",
    "print(principal_matrix.shape)\n"
   ]
  },
  {
   "cell_type": "markdown",
   "metadata": {},
   "source": [
    "### Support Vector Regressor & Hyperparameter Tuning"
   ]
  },
  {
   "cell_type": "code",
   "execution_count": 221,
   "metadata": {},
   "outputs": [
    {
     "name": "stdout",
     "output_type": "stream",
     "text": [
      "Fitting 5 folds for each of 1 candidates, totalling 5 fits\n"
     ]
    },
    {
     "name": "stdout",
     "output_type": "stream",
     "text": [
      "{'C': 100, 'gamma': 0.01, 'kernel': 'rbf'}\n"
     ]
    }
   ],
   "source": [
    "X_train, X_test, y_train, y_test= train_test_split(principal_matrix, labels, test_size= .2, random_state= 0)\n",
    "scaler= StandardScaler()\n",
    "X_train= scaler.fit_transform(X_train)\n",
    "X_test= scaler.transform(X_test)\n",
    "\n",
    "svr= SVR()\n",
    "\n",
    "param_grid= [\n",
    "  {\"kernel\": [\"linear\"], \"C\": [.1, 1, 10, 100]},\n",
    "  {\"kernel\": [\"rbf\"], \"C\": [1, 10, 100, 1000], \"gamma\": [1, .1, .01, .001]}\n",
    " ]\n",
    "\n",
    "param_grid= [\n",
    "  {\"kernel\": [\"rbf\"], \"C\": [100], \"gamma\": [.01]}\n",
    " ]\n",
    "\n",
    "model= GridSearchCV(svr, param_grid= param_grid, verbose= True)\n",
    "\n",
    "model.fit(X_train, y_train)\n",
    "print(model.best_params_)\n",
    "# print(model.cv_results_)\n"
   ]
  },
  {
   "cell_type": "code",
   "execution_count": 222,
   "metadata": {},
   "outputs": [
    {
     "name": "stdout",
     "output_type": "stream",
     "text": [
      "Mean Absolute Error: 33.308599228357444\n",
      "R^2 Score: 0.14990264507581974\n"
     ]
    }
   ],
   "source": [
    "y_pred= model.predict(X_test)\n",
    "\n",
    "mae= mean_absolute_error(y_test, y_pred)\n",
    "\n",
    "r2= r2_score(y_test, y_pred)\n",
    "\n",
    "print(f\"Mean Absolute Error: {mae}\")\n",
    "print(f\"R^2 Score: {r2}\")"
   ]
  },
  {
   "cell_type": "code",
   "execution_count": 223,
   "metadata": {},
   "outputs": [
    {
     "data": {
      "text/plain": [
       "(0.0, 180.0, 0.0, 180.0)"
      ]
     },
     "execution_count": 223,
     "metadata": {},
     "output_type": "execute_result"
    },
    {
     "data": {
      "image/png": "[encoded data removed]",
      "text/plain": [
       "<Figure size 640x480 with 1 Axes>"
      ]
     },
     "metadata": {},
     "output_type": "display_data"
    }
   ],
   "source": [
    "plt.plot(y_test, y_pred, \"r.\")\n",
    "plt.grid()\n",
    "plt.xlabel(\"Measured Angle\")\n",
    "plt.ylabel(\"Predicted Angle\")\n",
    "plt.axis([0, 180, 0, 180])"
   ]
  },
  {
   "cell_type": "code",
   "execution_count": 224,
   "metadata": {},
   "outputs": [
    {
     "data": {
      "text/plain": [
       "Text(0, 0.5, 'Count')"
      ]
     },
     "execution_count": 224,
     "metadata": {},
     "output_type": "execute_result"
    },
    {
     "data": {
      "image/png": "[encoded data removed]",
      "text/plain": [
       "<Figure size 640x480 with 1 Axes>"
      ]
     },
     "metadata": {},
     "output_type": "display_data"
    }
   ],
   "source": [
    "plt.hist(y_test, alpha= .3)\n",
    "plt.hist(y_train, alpha= .3)\n",
    "\n",
    "plt.grid()\n",
    "plt.xlabel(\"Angle\")\n",
    "plt.ylabel(\"Count\")"
   ]
  }
 ],
 "metadata": {
  "kernelspec": {
   "display_name": ".venv",
   "language": "python",
   "name": "python3"
  },
  "language_info": {
   "codemirror_mode": {
    "name": "ipython",
    "version": 3
   },
   "file_extension": ".py",
   "mimetype": "text/x-python",
   "name": "python",
   "nbconvert_exporter": "python",
   "pygments_lexer": "ipython3",
   "version": "3.10.0"
  },
  "orig_nbformat": 4
 },
 "nbformat": 4,
 "nbformat_minor": 2
}
