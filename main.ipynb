{
 "cells": [
  {
   "cell_type": "markdown",
   "metadata": {},
   "source": [
    "# Import the Libraries"
   ]
  },
  {
   "cell_type": "code",
   "execution_count": 12,
   "metadata": {},
   "outputs": [],
   "source": [
    "import numpy as np\n",
    "import cv2\n",
    "import matplotlib.pyplot as plt\n",
    "\n",
    "from skimage.feature import hog\n",
    "from skimage import exposure\n",
    "from skimage import feature\n",
    "\n",
    "from pandas import read_excel\n",
    "\n",
    "from sklearn.preprocessing import StandardScaler\n",
    "from sklearn.decomposition import PCA\n",
    "\n",
    "from sklearn.svm import SVR\n",
    "from sklearn.model_selection import GridSearchCV\n",
    "from sklearn.model_selection import train_test_split\n",
    "from sklearn.preprocessing import StandardScaler\n",
    "from sklearn.metrics import mean_absolute_error, r2_score\n"
   ]
  },
  {
   "cell_type": "markdown",
   "metadata": {},
   "source": [
    "## HOG Feature Extraction"
   ]
  },
  {
   "cell_type": "code",
   "execution_count": 13,
   "metadata": {},
   "outputs": [
    {
     "name": "stderr",
     "output_type": "stream",
     "text": [
      "[ WARN:0@23236.414] global loadsave.cpp:248 findDecoder imread_('./pictures/99.png'): can't open/read file: check file path/integrity\n",
      "[ WARN:0@23236.514] global loadsave.cpp:248 findDecoder imread_('./pictures/151.png'): can't open/read file: check file path/integrity\n",
      "[ WARN:0@23236.663] global loadsave.cpp:248 findDecoder imread_('./pictures/276.png'): can't open/read file: check file path/integrity\n",
      "[ WARN:0@23236.663] global loadsave.cpp:248 findDecoder imread_('./pictures/277.png'): can't open/read file: check file path/integrity\n",
      "[ WARN:0@23236.663] global loadsave.cpp:248 findDecoder imread_('./pictures/278.png'): can't open/read file: check file path/integrity\n",
      "[ WARN:0@23236.663] global loadsave.cpp:248 findDecoder imread_('./pictures/279.png'): can't open/read file: check file path/integrity\n",
      "[ WARN:0@23236.670] global loadsave.cpp:248 findDecoder imread_('./pictures/288.png'): can't open/read file: check file path/integrity\n",
      "[ WARN:0@23236.670] global loadsave.cpp:248 findDecoder imread_('./pictures/289.png'): can't open/read file: check file path/integrity\n",
      "[ WARN:0@23236.671] global loadsave.cpp:248 findDecoder imread_('./pictures/290.png'): can't open/read file: check file path/integrity\n",
      "[ WARN:0@23236.671] global loadsave.cpp:248 findDecoder imread_('./pictures/291.png'): can't open/read file: check file path/integrity\n",
      "[ WARN:0@23236.677] global loadsave.cpp:248 findDecoder imread_('./pictures/300.png'): can't open/read file: check file path/integrity\n",
      "[ WARN:0@23236.677] global loadsave.cpp:248 findDecoder imread_('./pictures/301.png'): can't open/read file: check file path/integrity\n",
      "[ WARN:0@23236.678] global loadsave.cpp:248 findDecoder imread_('./pictures/302.png'): can't open/read file: check file path/integrity\n",
      "[ WARN:0@23236.678] global loadsave.cpp:248 findDecoder imread_('./pictures/303.png'): can't open/read file: check file path/integrity\n",
      "[ WARN:0@23236.685] global loadsave.cpp:248 findDecoder imread_('./pictures/312.png'): can't open/read file: check file path/integrity\n",
      "[ WARN:0@23236.686] global loadsave.cpp:248 findDecoder imread_('./pictures/314.png'): can't open/read file: check file path/integrity\n",
      "[ WARN:0@23236.686] global loadsave.cpp:248 findDecoder imread_('./pictures/315.png'): can't open/read file: check file path/integrity\n",
      "[ WARN:0@23236.694] global loadsave.cpp:248 findDecoder imread_('./pictures/325.png'): can't open/read file: check file path/integrity\n",
      "[ WARN:0@23236.694] global loadsave.cpp:248 findDecoder imread_('./pictures/326.png'): can't open/read file: check file path/integrity\n",
      "[ WARN:0@23236.694] global loadsave.cpp:248 findDecoder imread_('./pictures/327.png'): can't open/read file: check file path/integrity\n",
      "[ WARN:0@23236.694] global loadsave.cpp:248 findDecoder imread_('./pictures/328.png'): can't open/read file: check file path/integrity\n",
      "[ WARN:0@23236.703] global loadsave.cpp:248 findDecoder imread_('./pictures/338.png'): can't open/read file: check file path/integrity\n",
      "[ WARN:0@23236.703] global loadsave.cpp:248 findDecoder imread_('./pictures/339.png'): can't open/read file: check file path/integrity\n",
      "[ WARN:0@23236.703] global loadsave.cpp:248 findDecoder imread_('./pictures/340.png'): can't open/read file: check file path/integrity\n",
      "[ WARN:0@23236.703] global loadsave.cpp:248 findDecoder imread_('./pictures/341.png'): can't open/read file: check file path/integrity\n",
      "[ WARN:0@23236.711] global loadsave.cpp:248 findDecoder imread_('./pictures/351.png'): can't open/read file: check file path/integrity\n",
      "[ WARN:0@23236.711] global loadsave.cpp:248 findDecoder imread_('./pictures/352.png'): can't open/read file: check file path/integrity\n",
      "[ WARN:0@23236.742] global loadsave.cpp:248 findDecoder imread_('./pictures/386.png'): can't open/read file: check file path/integrity\n",
      "[ WARN:0@23236.746] global loadsave.cpp:248 findDecoder imread_('./pictures/393.png'): can't open/read file: check file path/integrity\n",
      "[ WARN:0@23236.746] global loadsave.cpp:248 findDecoder imread_('./pictures/394.png'): can't open/read file: check file path/integrity\n",
      "[ WARN:0@23236.754] global loadsave.cpp:248 findDecoder imread_('./pictures/404.png'): can't open/read file: check file path/integrity\n",
      "[ WARN:0@23236.754] global loadsave.cpp:248 findDecoder imread_('./pictures/406.png'): can't open/read file: check file path/integrity\n",
      "[ WARN:0@23236.754] global loadsave.cpp:248 findDecoder imread_('./pictures/407.png'): can't open/read file: check file path/integrity\n",
      "[ WARN:0@23236.754] global loadsave.cpp:248 findDecoder imread_('./pictures/408.png'): can't open/read file: check file path/integrity\n",
      "[ WARN:0@23236.754] global loadsave.cpp:248 findDecoder imread_('./pictures/409.png'): can't open/read file: check file path/integrity\n",
      "[ WARN:0@23236.755] global loadsave.cpp:248 findDecoder imread_('./pictures/411.png'): can't open/read file: check file path/integrity\n",
      "[ WARN:0@23236.759] global loadsave.cpp:248 findDecoder imread_('./pictures/418.png'): can't open/read file: check file path/integrity\n",
      "[ WARN:0@23236.759] global loadsave.cpp:248 findDecoder imread_('./pictures/419.png'): can't open/read file: check file path/integrity\n",
      "[ WARN:0@23236.759] global loadsave.cpp:248 findDecoder imread_('./pictures/420.png'): can't open/read file: check file path/integrity\n",
      "[ WARN:0@23236.759] global loadsave.cpp:248 findDecoder imread_('./pictures/421.png'): can't open/read file: check file path/integrity\n",
      "[ WARN:0@23236.759] global loadsave.cpp:248 findDecoder imread_('./pictures/422.png'): can't open/read file: check file path/integrity\n",
      "[ WARN:0@23236.759] global loadsave.cpp:248 findDecoder imread_('./pictures/423.png'): can't open/read file: check file path/integrity\n",
      "[ WARN:0@23236.766] global loadsave.cpp:248 findDecoder imread_('./pictures/432.png'): can't open/read file: check file path/integrity\n",
      "[ WARN:0@23236.766] global loadsave.cpp:248 findDecoder imread_('./pictures/433.png'): can't open/read file: check file path/integrity\n",
      "[ WARN:0@23236.766] global loadsave.cpp:248 findDecoder imread_('./pictures/434.png'): can't open/read file: check file path/integrity\n",
      "[ WARN:0@23236.766] global loadsave.cpp:248 findDecoder imread_('./pictures/435.png'): can't open/read file: check file path/integrity\n",
      "[ WARN:0@23236.766] global loadsave.cpp:248 findDecoder imread_('./pictures/436.png'): can't open/read file: check file path/integrity\n",
      "[ WARN:0@23236.766] global loadsave.cpp:248 findDecoder imread_('./pictures/437.png'): can't open/read file: check file path/integrity\n",
      "[ WARN:0@23236.766] global loadsave.cpp:248 findDecoder imread_('./pictures/438.png'): can't open/read file: check file path/integrity\n",
      "[ WARN:0@23236.771] global loadsave.cpp:248 findDecoder imread_('./pictures/444.png'): can't open/read file: check file path/integrity\n",
      "[ WARN:0@23236.771] global loadsave.cpp:248 findDecoder imread_('./pictures/445.png'): can't open/read file: check file path/integrity\n",
      "[ WARN:0@23236.771] global loadsave.cpp:248 findDecoder imread_('./pictures/446.png'): can't open/read file: check file path/integrity\n",
      "[ WARN:0@23236.771] global loadsave.cpp:248 findDecoder imread_('./pictures/447.png'): can't open/read file: check file path/integrity\n",
      "[ WARN:0@23236.771] global loadsave.cpp:248 findDecoder imread_('./pictures/448.png'): can't open/read file: check file path/integrity\n",
      "[ WARN:0@23236.771] global loadsave.cpp:248 findDecoder imread_('./pictures/449.png'): can't open/read file: check file path/integrity\n",
      "[ WARN:0@23236.771] global loadsave.cpp:248 findDecoder imread_('./pictures/450.png'): can't open/read file: check file path/integrity\n",
      "[ WARN:0@23236.771] global loadsave.cpp:248 findDecoder imread_('./pictures/451.png'): can't open/read file: check file path/integrity\n",
      "[ WARN:0@23236.771] global loadsave.cpp:248 findDecoder imread_('./pictures/452.png'): can't open/read file: check file path/integrity\n",
      "[ WARN:0@23236.774] global loadsave.cpp:248 findDecoder imread_('./pictures/456.png'): can't open/read file: check file path/integrity\n",
      "[ WARN:0@23236.774] global loadsave.cpp:248 findDecoder imread_('./pictures/457.png'): can't open/read file: check file path/integrity\n",
      "[ WARN:0@23236.774] global loadsave.cpp:248 findDecoder imread_('./pictures/458.png'): can't open/read file: check file path/integrity\n",
      "[ WARN:0@23236.774] global loadsave.cpp:248 findDecoder imread_('./pictures/459.png'): can't open/read file: check file path/integrity\n",
      "[ WARN:0@23236.774] global loadsave.cpp:248 findDecoder imread_('./pictures/460.png'): can't open/read file: check file path/integrity\n",
      "[ WARN:0@23236.774] global loadsave.cpp:248 findDecoder imread_('./pictures/461.png'): can't open/read file: check file path/integrity\n",
      "[ WARN:0@23236.774] global loadsave.cpp:248 findDecoder imread_('./pictures/462.png'): can't open/read file: check file path/integrity\n",
      "[ WARN:0@23236.783] global loadsave.cpp:248 findDecoder imread_('./pictures/470.png'): can't open/read file: check file path/integrity\n",
      "[ WARN:0@23236.783] global loadsave.cpp:248 findDecoder imread_('./pictures/471.png'): can't open/read file: check file path/integrity\n",
      "[ WARN:0@23236.783] global loadsave.cpp:248 findDecoder imread_('./pictures/472.png'): can't open/read file: check file path/integrity\n",
      "[ WARN:0@23236.783] global loadsave.cpp:248 findDecoder imread_('./pictures/473.png'): can't open/read file: check file path/integrity\n",
      "[ WARN:0@23236.783] global loadsave.cpp:248 findDecoder imread_('./pictures/474.png'): can't open/read file: check file path/integrity\n",
      "[ WARN:0@23236.792] global loadsave.cpp:248 findDecoder imread_('./pictures/483.png'): can't open/read file: check file path/integrity\n",
      "[ WARN:0@23236.792] global loadsave.cpp:248 findDecoder imread_('./pictures/484.png'): can't open/read file: check file path/integrity\n",
      "[ WARN:0@23236.792] global loadsave.cpp:248 findDecoder imread_('./pictures/485.png'): can't open/read file: check file path/integrity\n",
      "[ WARN:0@23236.792] global loadsave.cpp:248 findDecoder imread_('./pictures/486.png'): can't open/read file: check file path/integrity\n",
      "[ WARN:0@23236.800] global loadsave.cpp:248 findDecoder imread_('./pictures/496.png'): can't open/read file: check file path/integrity\n",
      "[ WARN:0@23236.800] global loadsave.cpp:248 findDecoder imread_('./pictures/497.png'): can't open/read file: check file path/integrity\n",
      "[ WARN:0@23236.800] global loadsave.cpp:248 findDecoder imread_('./pictures/498.png'): can't open/read file: check file path/integrity\n",
      "[ WARN:0@23236.802] global loadsave.cpp:248 findDecoder imread_('./pictures/500.png'): can't open/read file: check file path/integrity\n",
      "[ WARN:0@23236.809] global loadsave.cpp:248 findDecoder imread_('./pictures/508.png'): can't open/read file: check file path/integrity\n",
      "[ WARN:0@23236.809] global loadsave.cpp:248 findDecoder imread_('./pictures/509.png'): can't open/read file: check file path/integrity\n",
      "[ WARN:0@23236.809] global loadsave.cpp:248 findDecoder imread_('./pictures/510.png'): can't open/read file: check file path/integrity\n",
      "[ WARN:0@23236.809] global loadsave.cpp:248 findDecoder imread_('./pictures/511.png'): can't open/read file: check file path/integrity\n",
      "[ WARN:0@23236.819] global loadsave.cpp:248 findDecoder imread_('./pictures/521.png'): can't open/read file: check file path/integrity\n",
      "[ WARN:0@23236.819] global loadsave.cpp:248 findDecoder imread_('./pictures/522.png'): can't open/read file: check file path/integrity\n",
      "[ WARN:0@23236.820] global loadsave.cpp:248 findDecoder imread_('./pictures/523.png'): can't open/read file: check file path/integrity\n",
      "[ WARN:0@23236.820] global loadsave.cpp:248 findDecoder imread_('./pictures/524.png'): can't open/read file: check file path/integrity\n",
      "[ WARN:0@23236.820] global loadsave.cpp:248 findDecoder imread_('./pictures/525.png'): can't open/read file: check file path/integrity\n",
      "[ WARN:0@23236.827] global loadsave.cpp:248 findDecoder imread_('./pictures/534.png'): can't open/read file: check file path/integrity\n",
      "[ WARN:0@23236.827] global loadsave.cpp:248 findDecoder imread_('./pictures/535.png'): can't open/read file: check file path/integrity\n",
      "[ WARN:0@23236.827] global loadsave.cpp:248 findDecoder imread_('./pictures/536.png'): can't open/read file: check file path/integrity\n",
      "[ WARN:0@23236.838] global loadsave.cpp:248 findDecoder imread_('./pictures/547.png'): can't open/read file: check file path/integrity\n",
      "[ WARN:0@23236.838] global loadsave.cpp:248 findDecoder imread_('./pictures/548.png'): can't open/read file: check file path/integrity\n",
      "[ WARN:0@23236.838] global loadsave.cpp:248 findDecoder imread_('./pictures/549.png'): can't open/read file: check file path/integrity\n",
      "[ WARN:0@23236.845] global loadsave.cpp:248 findDecoder imread_('./pictures/559.png'): can't open/read file: check file path/integrity\n",
      "[ WARN:0@23236.845] global loadsave.cpp:248 findDecoder imread_('./pictures/560.png'): can't open/read file: check file path/integrity\n",
      "[ WARN:0@23236.845] global loadsave.cpp:248 findDecoder imread_('./pictures/561.png'): can't open/read file: check file path/integrity\n",
      "[ WARN:0@23236.845] global loadsave.cpp:248 findDecoder imread_('./pictures/562.png'): can't open/read file: check file path/integrity\n",
      "[ WARN:0@23236.845] global loadsave.cpp:248 findDecoder imread_('./pictures/563.png'): can't open/read file: check file path/integrity\n",
      "[ WARN:0@23236.853] global loadsave.cpp:248 findDecoder imread_('./pictures/573.png'): can't open/read file: check file path/integrity\n",
      "[ WARN:0@23236.853] global loadsave.cpp:248 findDecoder imread_('./pictures/574.png'): can't open/read file: check file path/integrity\n",
      "[ WARN:0@23236.853] global loadsave.cpp:248 findDecoder imread_('./pictures/575.png'): can't open/read file: check file path/integrity\n",
      "[ WARN:0@23236.853] global loadsave.cpp:248 findDecoder imread_('./pictures/576.png'): can't open/read file: check file path/integrity\n",
      "[ WARN:0@23236.853] global loadsave.cpp:248 findDecoder imread_('./pictures/577.png'): can't open/read file: check file path/integrity\n",
      "[ WARN:0@23236.853] global loadsave.cpp:248 findDecoder imread_('./pictures/578.png'): can't open/read file: check file path/integrity\n",
      "[ WARN:0@23236.857] global loadsave.cpp:248 findDecoder imread_('./pictures/584.png'): can't open/read file: check file path/integrity\n",
      "[ WARN:0@23236.861] global loadsave.cpp:248 findDecoder imread_('./pictures/588.png'): can't open/read file: check file path/integrity\n",
      "[ WARN:0@23236.861] global loadsave.cpp:248 findDecoder imread_('./pictures/589.png'): can't open/read file: check file path/integrity\n",
      "[ WARN:0@23236.861] global loadsave.cpp:248 findDecoder imread_('./pictures/590.png'): can't open/read file: check file path/integrity\n",
      "[ WARN:0@23236.863] global loadsave.cpp:248 findDecoder imread_('./pictures/594.png'): can't open/read file: check file path/integrity\n",
      "[ WARN:0@23236.864] global loadsave.cpp:248 findDecoder imread_('./pictures/596.png'): can't open/read file: check file path/integrity\n",
      "[ WARN:0@23236.864] global loadsave.cpp:248 findDecoder imread_('./pictures/597.png'): can't open/read file: check file path/integrity\n",
      "[ WARN:0@23236.864] global loadsave.cpp:248 findDecoder imread_('./pictures/598.png'): can't open/read file: check file path/integrity\n",
      "[ WARN:0@23236.864] global loadsave.cpp:248 findDecoder imread_('./pictures/599.png'): can't open/read file: check file path/integrity\n",
      "[ WARN:0@23236.864] global loadsave.cpp:248 findDecoder imread_('./pictures/600.png'): can't open/read file: check file path/integrity\n",
      "[ WARN:0@23236.864] global loadsave.cpp:248 findDecoder imread_('./pictures/601.png'): can't open/read file: check file path/integrity\n",
      "[ WARN:0@23236.864] global loadsave.cpp:248 findDecoder imread_('./pictures/602.png'): can't open/read file: check file path/integrity\n",
      "[ WARN:0@23236.866] global loadsave.cpp:248 findDecoder imread_('./pictures/606.png'): can't open/read file: check file path/integrity\n",
      "[ WARN:0@23236.866] global loadsave.cpp:248 findDecoder imread_('./pictures/607.png'): can't open/read file: check file path/integrity\n",
      "[ WARN:0@23236.866] global loadsave.cpp:248 findDecoder imread_('./pictures/608.png'): can't open/read file: check file path/integrity\n",
      "[ WARN:0@23236.868] global loadsave.cpp:248 findDecoder imread_('./pictures/610.png'): can't open/read file: check file path/integrity\n",
      "[ WARN:0@23236.868] global loadsave.cpp:248 findDecoder imread_('./pictures/611.png'): can't open/read file: check file path/integrity\n",
      "[ WARN:0@23236.868] global loadsave.cpp:248 findDecoder imread_('./pictures/612.png'): can't open/read file: check file path/integrity\n",
      "[ WARN:0@23236.868] global loadsave.cpp:248 findDecoder imread_('./pictures/613.png'): can't open/read file: check file path/integrity\n",
      "[ WARN:0@23236.868] global loadsave.cpp:248 findDecoder imread_('./pictures/614.png'): can't open/read file: check file path/integrity\n",
      "[ WARN:0@23236.892] global loadsave.cpp:248 findDecoder imread_('./pictures/639.png'): can't open/read file: check file path/integrity\n",
      "[ WARN:0@23236.892] global loadsave.cpp:248 findDecoder imread_('./pictures/640.png'): can't open/read file: check file path/integrity\n",
      "[ WARN:0@23236.898] global loadsave.cpp:248 findDecoder imread_('./pictures/647.png'): can't open/read file: check file path/integrity\n",
      "[ WARN:0@23236.898] global loadsave.cpp:248 findDecoder imread_('./pictures/648.png'): can't open/read file: check file path/integrity\n",
      "[ WARN:0@23236.898] global loadsave.cpp:248 findDecoder imread_('./pictures/649.png'): can't open/read file: check file path/integrity\n",
      "[ WARN:0@23236.907] global loadsave.cpp:248 findDecoder imread_('./pictures/658.png'): can't open/read file: check file path/integrity\n",
      "[ WARN:0@23236.907] global loadsave.cpp:248 findDecoder imread_('./pictures/659.png'): can't open/read file: check file path/integrity\n",
      "[ WARN:0@23236.965] global loadsave.cpp:248 findDecoder imread_('./pictures/719.png'): can't open/read file: check file path/integrity\n",
      "[ WARN:0@23236.971] global loadsave.cpp:248 findDecoder imread_('./pictures/728.png'): can't open/read file: check file path/integrity\n",
      "[ WARN:0@23236.971] global loadsave.cpp:248 findDecoder imread_('./pictures/729.png'): can't open/read file: check file path/integrity\n",
      "[ WARN:0@23236.971] global loadsave.cpp:248 findDecoder imread_('./pictures/730.png'): can't open/read file: check file path/integrity\n",
      "[ WARN:0@23236.975] global loadsave.cpp:248 findDecoder imread_('./pictures/737.png'): can't open/read file: check file path/integrity\n",
      "[ WARN:0@23236.975] global loadsave.cpp:248 findDecoder imread_('./pictures/738.png'): can't open/read file: check file path/integrity\n",
      "[ WARN:0@23236.975] global loadsave.cpp:248 findDecoder imread_('./pictures/739.png'): can't open/read file: check file path/integrity\n",
      "[ WARN:0@23236.975] global loadsave.cpp:248 findDecoder imread_('./pictures/740.png'): can't open/read file: check file path/integrity\n",
      "[ WARN:0@23236.975] global loadsave.cpp:248 findDecoder imread_('./pictures/741.png'): can't open/read file: check file path/integrity\n",
      "[ WARN:0@23236.982] global loadsave.cpp:248 findDecoder imread_('./pictures/747.png'): can't open/read file: check file path/integrity\n",
      "[ WARN:0@23236.982] global loadsave.cpp:248 findDecoder imread_('./pictures/748.png'): can't open/read file: check file path/integrity\n",
      "[ WARN:0@23236.982] global loadsave.cpp:248 findDecoder imread_('./pictures/749.png'): can't open/read file: check file path/integrity\n",
      "[ WARN:0@23236.991] global loadsave.cpp:248 findDecoder imread_('./pictures/758.png'): can't open/read file: check file path/integrity\n",
      "[ WARN:0@23237.045] global loadsave.cpp:248 findDecoder imread_('./pictures/809.png'): can't open/read file: check file path/integrity\n",
      "[ WARN:0@23237.055] global loadsave.cpp:248 findDecoder imread_('./pictures/819.png'): can't open/read file: check file path/integrity\n",
      "[ WARN:0@23237.055] global loadsave.cpp:248 findDecoder imread_('./pictures/820.png'): can't open/read file: check file path/integrity\n",
      "[ WARN:0@23237.062] global loadsave.cpp:248 findDecoder imread_('./pictures/828.png'): can't open/read file: check file path/integrity\n",
      "[ WARN:0@23237.062] global loadsave.cpp:248 findDecoder imread_('./pictures/829.png'): can't open/read file: check file path/integrity\n",
      "[ WARN:0@23237.062] global loadsave.cpp:248 findDecoder imread_('./pictures/830.png'): can't open/read file: check file path/integrity\n"
     ]
    },
    {
     "name": "stdout",
     "output_type": "stream",
     "text": [
      "(786, 32)\n",
      "0.003618002544529262\n"
     ]
    },
    {
     "data": {
      "text/plain": [
       "(786, 32)"
      ]
     },
     "execution_count": 13,
     "metadata": {},
     "output_type": "execute_result"
    }
   ],
   "source": [
    "def get_feature_vector(image_directory, grid_q= 4, orientation= 8, ):\n",
    "    img = cv2.imread(image_directory, cv2.IMREAD_GRAYSCALE)\n",
    "\n",
    "    hog_features = hog(img, orientations= 8, pixels_per_cell= (int(img.shape[0]/grid_q), int(img.shape[1]/grid_q)),\n",
    "                    cells_per_block=(1, 1), feature_vector= True)\n",
    "\n",
    "    return hog_features\n",
    "\n",
    "import os\n",
    "\n",
    "# pictures_directory_list= np.zeros(0, dtype= \"str\")\n",
    "# for (root, dirs, file) in os.walk(\"./pictures/\"):\n",
    "#     for img in file:\n",
    "#         if '.png' in f:\n",
    "#             pictures_directory_list= np.append(pictures_directory_list, img)\n",
    "\n",
    "\n",
    "feature_matrix= []\n",
    "\n",
    "for i in range(1, 937):\n",
    "    img_dir= \"./pictures/\" + str(i) + \".png\"\n",
    "    try:\n",
    "        feature_vec= get_feature_vector(img_dir, grid_q= 2)\n",
    "        feature_matrix.append(feature_vec)\n",
    "    except:\n",
    "        pass\n",
    "\n",
    "feature_matrix= np.array(feature_matrix)\n",
    "print(feature_matrix.shape)\n",
    "\n",
    "# np.savetxt('featurematrix2.csv', feature_matrix, delimiter=',')\n",
    "print(sum(sum(feature_matrix== 0))/feature_matrix.size)\n",
    "feature_matrix.shape"
   ]
  },
  {
   "cell_type": "markdown",
   "metadata": {},
   "source": [
    "### Scale & PCA"
   ]
  },
  {
   "cell_type": "code",
   "execution_count": 14,
   "metadata": {},
   "outputs": [],
   "source": [
    "required_variance= .9 # 90 % Variance\n",
    "no_components= sum(pca.explained_variance_ratio_.cumsum() < required_variance) + 1\n",
    "\n",
    "pca_var= PCA(no_components)\n",
    "principal_matrix= pca_var.fit_transform(feature_matrix)\n",
    "\n",
    "with open(\"labels.csv\") as f:\n",
    "    l= f.read()\n",
    "    try: # Mac\n",
    "        int(l[1:2])\n",
    "        l= l[1:]\n",
    "    except: # Windows\n",
    "        l= l[3:]\n",
    "    \n",
    "    labels= np.array(l.split(), dtype= int)\n",
    "\n",
    "nonzero_index= labels!= 0\n",
    "labels= labels[nonzero_index]\n",
    "principal_matrix= principal_matrix[nonzero_index]\n"
   ]
  },
  {
   "cell_type": "code",
   "execution_count": 16,
   "metadata": {},
   "outputs": [],
   "source": [
    "X_train, X_test, y_train, y_test= train_test_split(principal_matrix, labels, test_size= .2, random_state= 42)\n",
    "scaler= StandardScaler()\n",
    "X_train= scaler.fit_transform(X_train)\n",
    "X_test= scaler.transform(X_test)\n",
    "\n",
    "svr= SVR(C= 100, gamma= .1, epsilon= .1)\n",
    "\n",
    "param_grid = [\n",
    "  {'C': np.logspace(1, 4, 7), 'kernel': ['linear']},\n",
    "  {'C': np.logspace(1, 4, 7), 'gamma': np.logspace(-1, -4, 7), 'kernel': ['rbf']},\n",
    " ]\n",
    "\n",
    "model= GridSearchCV(svr, param_grid= param_grid)"
   ]
  },
  {
   "cell_type": "code",
   "execution_count": 17,
   "metadata": {},
   "outputs": [],
   "source": [
    "model.fit(X_train, y_train)\n",
    "print(model.cv_results_)\n",
    "\n",
    "y_pred= model.predict(X_test)\n",
    "\n",
    "mae= mean_absolute_error(y_test, y_pred)\n",
    "r2= r2_score(y_test, y_pred)\n",
    "\n",
    "\n",
    "print(f\"Mean Absolute Error: {mae}\")\n",
    "print(f\"R^2 Score: {r2}\")"
   ]
  },
  {
   "cell_type": "code",
   "execution_count": null,
   "metadata": {},
   "outputs": [
    {
     "data": {
      "text/plain": [
       "(0.0, 180.0, 0.0, 180.0)"
      ]
     },
     "execution_count": 11,
     "metadata": {},
     "output_type": "execute_result"
    },
    {
     "data": {
      "image/png": "[encoded data removed]",
      "text/plain": [
       "<Figure size 640x480 with 1 Axes>"
      ]
     },
     "metadata": {},
     "output_type": "display_data"
    }
   ],
   "source": [
    "plt.plot(y_test, y_pred, \"r.\")\n",
    "plt.grid()\n",
    "plt.xlabel(\"Measured Angle\")\n",
    "plt.ylabel(\"Predicted Angle\")\n",
    "plt.axis([0, 180, 0, 180])"
   ]
  }
 ],
 "metadata": {
  "kernelspec": {
   "display_name": ".venv",
   "language": "python",
   "name": "python3"
  },
  "language_info": {
   "codemirror_mode": {
    "name": "ipython",
    "version": 3
   },
   "file_extension": ".py",
   "mimetype": "text/x-python",
   "name": "python",
   "nbconvert_exporter": "python",
   "pygments_lexer": "ipython3",
   "version": "3.10.0"
  },
  "orig_nbformat": 4
 },
 "nbformat": 4,
 "nbformat_minor": 2
}
