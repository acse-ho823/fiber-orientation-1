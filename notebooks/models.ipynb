{
 "cells": [
  {
   "cell_type": "code",
   "execution_count": 1,
   "metadata": {},
   "outputs": [
    {
     "name": "stderr",
     "output_type": "stream",
     "text": [
      "/opt/homebrew/Caskroom/miniconda/base/envs/fiber_predictor/lib/python3.8/site-packages/torchvision/io/image.py:13: UserWarning: Failed to load image Python extension: 'dlopen(/opt/homebrew/Caskroom/miniconda/base/envs/fiber_predictor/lib/python3.8/site-packages/torchvision/image.so, 0x0006): Symbol not found: __ZN3c1017RegisterOperatorsD1Ev\n",
      "  Referenced from: <ABE0EE74-6D97-3B8C-B690-C44754774FBC> /opt/homebrew/Caskroom/miniconda/base/envs/fiber_predictor/lib/python3.8/site-packages/torchvision/image.so\n",
      "  Expected in:     <EEB3232B-F6A7-3262-948C-BB2F54905803> /opt/homebrew/Caskroom/miniconda/base/envs/fiber_predictor/lib/python3.8/site-packages/torch/lib/libtorch_cpu.dylib'If you don't plan on using image functionality from `torchvision.io`, you can ignore this warning. Otherwise, there might be something wrong with your environment. Did you have `libjpeg` or `libpng` installed before building `torchvision` from source?\n",
      "  warn(\n"
     ]
    }
   ],
   "source": [
    "import os\n",
    "import numpy as np\n",
    "import pandas as pd\n",
    "import torch\n",
    "import pickle\n",
    "import matplotlib.pyplot as plt\n",
    "\n",
    "from sklearn.metrics import mean_absolute_error\n",
    "from sklearn.model_selection import train_test_split\n",
    "from torch.utils.data import DataLoader, random_split\n",
    "\n",
    "from fiber_predictor.svr_hog.data_processing import HogDataset\n",
    "from fiber_predictor.svr_hog.models import FiberPredictor"
   ]
  },
  {
   "cell_type": "code",
   "execution_count": 2,
   "metadata": {},
   "outputs": [],
   "source": [
    "FILE_DIR_BIO = \"../images/bio/\"\n",
    "LABELS_PATH_BIO = \"../images/bio/labels.csv\"\n",
    "FILE_DIR_DIFF = \"../images/diffusion/diffusion_voxels/\"\n",
    "LABELS_PATH_DIFF = \"../images/diffusion/diffusion_voxels/labels.csv\"\n",
    "\n",
    "GRID_QUOTIENT = np.arange(1, 6)\n",
    "ORIENTATIONS = 10\n",
    "BATCH_SIZE = 32\n",
    "TRAIN_TEST_SPLIT_RATIO = 0.3\n"
   ]
  },
  {
   "cell_type": "code",
   "execution_count": 3,
   "metadata": {},
   "outputs": [],
   "source": [
    "# Model parameters\n",
    "SCALER_TYPE = \"Standard\"  # Options: 'Standard', 'MinMax', 'Cosine'\n",
    "PCA_PARAMS = {\"n_components\": 0.95}  # Retain 95% variance\n",
    "REGRESSOR_TYPE = \"SVR\"  # Options: 'SVR', 'LinearRegression', 'Ridge', etc.\n",
    "REGRESSOR_PARAMS = {\"kernel\": \"rbf\", \"C\": 100, \"gamma\": 0.01}"
   ]
  },
  {
   "cell_type": "code",
   "execution_count": 4,
   "metadata": {},
   "outputs": [],
   "source": [
    "# Load biological data\n",
    "bio_dataset = HogDataset(\n",
    "    labels_path=LABELS_PATH_BIO,\n",
    "    file_dir=FILE_DIR_BIO,\n",
    "    grid_quotient=GRID_QUOTIENT,\n",
    "    orientations=ORIENTATIONS,\n",
    "    augment_whole_dataset=True\n",
    ")\n",
    "\n",
    "# Load diffusion data\n",
    "diff_dataset = HogDataset(\n",
    "    labels_path=LABELS_PATH_DIFF,\n",
    "    file_dir=FILE_DIR_DIFF,\n",
    "    grid_quotient=GRID_QUOTIENT,\n",
    "    orientations=ORIENTATIONS,\n",
    "    augment_whole_dataset=False\n",
    ")"
   ]
  },
  {
   "cell_type": "code",
   "execution_count": 5,
   "metadata": {},
   "outputs": [],
   "source": [
    "# Split the datasets\n",
    "def split_dataset(dataset, split_ratio):\n",
    "    train_size = int((1 - split_ratio) * len(dataset))\n",
    "    test_size = len(dataset) - train_size\n",
    "    return random_split(dataset, [train_size, test_size])\n",
    "\n",
    "bio_train_dataset, bio_test_dataset = split_dataset(bio_dataset, TRAIN_TEST_SPLIT_RATIO)\n",
    "diff_train_dataset, diff_test_dataset = split_dataset(diff_dataset, TRAIN_TEST_SPLIT_RATIO)\n",
    "\n",
    "# Data loaders\n",
    "def create_dataloaders(train_dataset, test_dataset, batch_size):\n",
    "    train_loader = DataLoader(train_dataset, batch_size=batch_size, shuffle=True)\n",
    "    test_loader = DataLoader(test_dataset, batch_size=batch_size, shuffle=False)\n",
    "    return train_loader, test_loader\n",
    "\n",
    "bio_train_loader, bio_test_loader = create_dataloaders(bio_train_dataset, bio_test_dataset, BATCH_SIZE)\n",
    "diff_train_loader, diff_test_loader = create_dataloaders(diff_train_dataset, diff_test_dataset, BATCH_SIZE)\n",
    "\n"
   ]
  },
  {
   "cell_type": "code",
   "execution_count": 6,
   "metadata": {},
   "outputs": [],
   "source": [
    "# Train and Evaluate Model\n",
    "def prepare_data_from_loader(data_loader):\n",
    "    X, y = [], []\n",
    "    for _, features, angles in data_loader:\n",
    "        X.extend(features.numpy())\n",
    "        y.extend(angles.numpy())\n",
    "    return np.array(X), np.array(y)\n",
    "\n",
    "def train_model(train_loader, test_loader):\n",
    "    # Prepare data\n",
    "    X_train, y_train = prepare_data_from_loader(train_loader)\n",
    "    X_test, y_test = prepare_data_from_loader(test_loader)\n",
    "\n",
    "    # Initialize and train model\n",
    "    fiber_predictor = FiberPredictor(\n",
    "        scaler_type=SCALER_TYPE,\n",
    "        scaler_params={},\n",
    "        pca_params=PCA_PARAMS,\n",
    "        regressor_type=REGRESSOR_TYPE,\n",
    "        regressor_params=REGRESSOR_PARAMS\n",
    "    )\n",
    "    model = fiber_predictor.fit(X_train, y_train)\n",
    "\n",
    "    # Predict and evaluate\n",
    "    y_pred = model.predict(X_test)\n",
    "    mae = mean_absolute_error(y_test, y_pred)\n",
    "    print(f\"MAE: {mae:.2f}\")\n",
    "    return model, mae\n"
   ]
  },
  {
   "cell_type": "code",
   "execution_count": 10,
   "metadata": {},
   "outputs": [],
   "source": [
    "# Evaluate Bio Model on Diffusion Data\n",
    "def evaluate_model(model, test_loader):\n",
    "    X_test, y_test = prepare_data_from_loader(test_loader)\n",
    "    y_pred = model.predict(X_test)\n",
    "    mae = mean_absolute_error(y_test, y_pred)\n",
    "    return mae"
   ]
  },
  {
   "cell_type": "code",
   "execution_count": null,
   "metadata": {},
   "outputs": [
    {
     "name": "stdout",
     "output_type": "stream",
     "text": [
      "Training model on biological data...\n",
      "MAE: 13.34\n",
      "Evaluating biological model on diffusion data...\n",
      "MAE (Bio Model on Diffusion Data): 26.36\n"
     ]
    }
   ],
   "source": [
    "print(\"Training model on biological data...\")\n",
    "bio_best_model, bio_mae = train_model(bio_train_loader, bio_test_loader)\n",
    "\n",
    "# Save the biological model\n",
    "with open(\"../trained_models/bio_model.pkl\", 'wb') as f:\n",
    "    pickle.dump(bio_best_model, f)\n",
    "\n",
    "print(\"Evaluating biological model on diffusion data...\")\n",
    "mae_bio_on_diff = evaluate_model(bio_best_model, diff_test_loader)\n",
    "print(f\"MAE (Bio Model on Diffusion Data): {mae_bio_on_diff:.2f}\")"
   ]
  },
  {
   "cell_type": "code",
   "execution_count": 12,
   "metadata": {},
   "outputs": [
    {
     "name": "stdout",
     "output_type": "stream",
     "text": [
      "Training model on diffusion data...\n",
      "MAE: 12.65\n",
      "Evaluating diffusion model on biological data...\n",
      "MAE (Diff Model on Biological Data): 16.97\n"
     ]
    }
   ],
   "source": [
    "print(\"Training model on diffusion data...\")\n",
    "diff_best_model, diff_mae_list = train_model(diff_train_loader, diff_test_loader)\n",
    "\n",
    "# Save the model\n",
    "with open(\"../trained_models/bio_model.pkl\", 'wb') as f:\n",
    "    pickle.dump(bio_best_model, f)\n",
    "\n",
    "print(\"Evaluating diffusion model on biological data...\")\n",
    "mae_diff_on_bio = evaluate_model(diff_best_model, bio_test_loader)\n",
    "print(f\"MAE (Diff Model on Biological Data): {mae_diff_on_bio:.2f}\")"
   ]
  },
  {
   "cell_type": "code",
   "execution_count": 13,
   "metadata": {},
   "outputs": [],
   "source": [
    "combined_dataset = bio_dataset + diff_dataset\n",
    "combined_train_size = int((1 - TRAIN_TEST_SPLIT_RATIO) * len(combined_dataset))\n",
    "combined_test_size = len(combined_dataset) - combined_train_size\n",
    "combined_train_dataset, combined_test_dataset = random_split(combined_dataset, [combined_train_size, combined_test_size])\n",
    "\n",
    "combined_train_loader = DataLoader(combined_train_dataset, batch_size=BATCH_SIZE, shuffle=True)\n",
    "combined_test_loader = DataLoader(combined_test_dataset, batch_size=BATCH_SIZE, shuffle=False)\n",
    "\n",
    "\n",
    "# ### Train and Save Combined Model\n"
   ]
  },
  {
   "cell_type": "code",
   "execution_count": 15,
   "metadata": {},
   "outputs": [
    {
     "name": "stdout",
     "output_type": "stream",
     "text": [
      "Training model on combined data...\n",
      "MAE: 12.67\n",
      "Evaluating combined model on biological and diffusion data...\n",
      "MAE (Combined Model on Biological Data): 5.28\n",
      "MAE (Combined Model on Diffusion Data): 4.80\n"
     ]
    }
   ],
   "source": [
    "print(\"Training model on combined data...\")\n",
    "combined_best_model, combined_mae_list = train_model(combined_train_loader, combined_test_loader)\n",
    "\n",
    "# Save the model\n",
    "with open(\"../trained_models/combined_model.pkl\", 'wb') as f:\n",
    "    pickle.dump(combined_best_model, f)\n",
    "\n",
    "\n",
    "print(\"Evaluating combined model on biological and diffusion data...\")\n",
    "mae_comb_on_bio = evaluate_model(combined_best_model, bio_test_loader)\n",
    "mae_comb_on_diff = evaluate_model(combined_best_model, diff_test_loader)\n",
    "\n",
    "print(f\"MAE (Combined Model on Biological Data): {mae_comb_on_bio:.2f}\")\n",
    "print(f\"MAE (Combined Model on Diffusion Data): {mae_comb_on_diff:.2f}\")\n"
   ]
  },
  {
   "cell_type": "code",
   "execution_count": 22,
   "metadata": {},
   "outputs": [
    {
     "data": {
      "image/png": "[encoded data removed]",
      "text/plain": [
       "<Figure size 1000x600 with 1 Axes>"
      ]
     },
     "metadata": {},
     "output_type": "display_data"
    }
   ],
   "source": [
    "# ### Plot Mean Absolute Error Distribution\n",
    "\n",
    "mae_scores = {\n",
    "    'Bio Model on Diff Data': mae_bio_on_diff,\n",
    "    'Diff Model on Bio Data': mae_diff_on_bio,\n",
    "    'Comb Model on Bio Data': mae_comb_on_bio,\n",
    "    'Comb Model on Diff Data': mae_comb_on_diff\n",
    "}\n",
    "\n",
    "plt.figure(figsize=(10, 6))\n",
    "plt.bar(mae_scores.keys(), mae_scores.values())\n",
    "plt.xlabel('Model')\n",
    "plt.ylabel('MAE')\n",
    "plt.title(\"Mean Absolute Error Comparison\")\n",
    "plt.grid(True)\n",
    "plt.show()\n"
   ]
  }
 ],
 "metadata": {
  "kernelspec": {
   "display_name": "fiber_predictor",
   "language": "python",
   "name": "python3"
  },
  "language_info": {
   "codemirror_mode": {
    "name": "ipython",
    "version": 3
   },
   "file_extension": ".py",
   "mimetype": "text/x-python",
   "name": "python",
   "nbconvert_exporter": "python",
   "pygments_lexer": "ipython3",
   "version": "3.8.20"
  }
 },
 "nbformat": 4,
 "nbformat_minor": 2
}
