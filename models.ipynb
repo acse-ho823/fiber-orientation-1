{
 "cells": [
  {
   "cell_type": "code",
   "execution_count": 1,
   "metadata": {},
   "outputs": [],
   "source": [
    "from utils import *\n",
    "\n",
    "import numpy as np\n",
    "from PIL import Image, ImageOps\n",
    "import matplotlib.pyplot as plt\n",
    "import pickle\n",
    "\n",
    "from FiberPredictor import FiberPredictor\n",
    "from skimage.feature import hog\n",
    "\n",
    "from sklearn.model_selection import train_test_split\n",
    "from sklearn.metrics import mean_absolute_error"
   ]
  },
  {
   "cell_type": "code",
   "execution_count": 2,
   "metadata": {},
   "outputs": [],
   "source": [
    "GRIDQ = np.arange(1, 6)\n",
    "# GRIDQ = np.arange(1, 4)\n",
    "ORIENTATION = 10"
   ]
  },
  {
   "cell_type": "code",
   "execution_count": 3,
   "metadata": {},
   "outputs": [],
   "source": [
    "def augment_data(img, label, img_dir, img_directories, feature_matrix, labels):\n",
    "    # Rotations\n",
    "    for i in range(1, 4):\n",
    "        a_img = img.rotate(90*i)\n",
    "        a_feature_vec = get_feature_vector(a_img, grid_q=GRIDQ, no_orientation=ORIENTATION)\n",
    "        a_label = (label+90*i)%180\n",
    "        img_directories.append(img_dir)\n",
    "        feature_matrix.append(a_feature_vec)\n",
    "        labels.append(a_label)\n",
    "    # Flips\n",
    "    a_img = ImageOps.mirror(img)\n",
    "    a_feature_vec = get_feature_vector(a_img, grid_q=GRIDQ, no_orientation=ORIENTATION)\n",
    "    a_label = (180-label)%180\n",
    "    img_directories.append(img_dir)\n",
    "    feature_matrix.append(a_feature_vec)\n",
    "    labels.append(a_label)\n",
    "    \n",
    "    a_img = ImageOps.flip(img)\n",
    "    a_feature_vec = get_feature_vector(a_img, grid_q=GRIDQ, no_orientation=ORIENTATION)\n",
    "    a_label = (180-label)%180\n",
    "    img_directories.append(img_dir)\n",
    "    feature_matrix.append(a_feature_vec)\n",
    "    labels.append(a_label)\n",
    "    \n",
    "    a_img = ImageOps.mirror(ImageOps.flip(img))\n",
    "    a_feature_vec = get_feature_vector(a_img, grid_q=GRIDQ, no_orientation=ORIENTATION)\n",
    "    a_label = label\n",
    "    img_directories.append(img_dir)\n",
    "    feature_matrix.append(a_feature_vec)\n",
    "    labels.append(a_label)\n",
    "\n",
    "def get_data(file_dir, csv_dir, i_start=1, augment=False):\n",
    "    bio_csv= np.loadtxt(csv_dir)\n",
    "\n",
    "    feature_matrix= []\n",
    "    img_directories= []\n",
    "    labels= []\n",
    "\n",
    "    for index, label in enumerate(bio_csv):\n",
    "        if not np.isnan(label):\n",
    "            img_dir = file_dir + str(index + i_start) + \".png\"\n",
    "            img = get_img(img_dir)\n",
    "\n",
    "            feature_vec = get_feature_vector(img, grid_q=GRIDQ, no_orientation=ORIENTATION)\n",
    "            \n",
    "            img_directories.append(img_dir)\n",
    "            feature_matrix.append(feature_vec)\n",
    "            labels.append(label)\n",
    "\n",
    "            if augment:\n",
    "                augment_data(img, label, img_dir, img_directories, feature_matrix, labels)\n",
    "\n",
    "    feature_matrix= np.array(feature_matrix)\n",
    "    labels= np.array(labels)\n",
    "    img_directories= np.array(img_directories)\n",
    "    return feature_matrix, labels, img_directories\n"
   ]
  },
  {
   "cell_type": "code",
   "execution_count": 4,
   "metadata": {},
   "outputs": [
    {
     "name": "stdout",
     "output_type": "stream",
     "text": [
      "Total picture/label count: 673/673\n"
     ]
    },
    {
     "data": {
      "image/png": "[encoded data removed]",
      "text/plain": [
       "<Figure size 640x480 with 1 Axes>"
      ]
     },
     "metadata": {},
     "output_type": "display_data"
    }
   ],
   "source": [
    "file_dir= \"images/bio/\"\n",
    "csv_dir= \"images/bio/labels.csv\"\n",
    "\n",
    "bio_feature_matrix, bio_labels, bio_img_directories= get_data(file_dir, csv_dir)\n",
    "print(f\"Total picture/label count: {bio_img_directories.size}/{bio_labels.size}\")\n",
    "\n",
    "file_dir= \"images/diffusion/diffusion_voxels/\"\n",
    "csv_dir= \"images/diffusion/diffusion_voxels/labels.csv\"\n",
    "\n",
    "diff_feature_matrix, diff_labels, diff_img_directories= get_data(file_dir, csv_dir, 2001)\n",
    "\n",
    "plt.figure()\n",
    "plt.hist([diff_labels, bio_labels], bins= np.arange(0, 181, 20), stacked= True, align=\"mid\")\n",
    "\n",
    "plt.xticks(np.arange(0, 181, 20))\n",
    "plt.ylabel(\"Count\")\n",
    "plt.xlabel(\"Angle\")\n",
    "plt.legend([\"Diffusion\", \"Biological\"])\n",
    "plt.grid()"
   ]
  },
  {
   "cell_type": "code",
   "execution_count": 5,
   "metadata": {},
   "outputs": [
    {
     "name": "stdout",
     "output_type": "stream",
     "text": [
      "Biological picture/label count: 673/673\n",
      "Best Model MAE: 10.76 | Mean MAE: 13.51\n",
      "**************************************************\n",
      "Train: bio_train_random => Predict: bio_test_random | MAE: 12.23\n",
      "Train: bio => Predict: diff | MAE: 13.06\n"
     ]
    }
   ],
   "source": [
    "print(f\"Biological picture/label count: {bio_feature_matrix.shape[0]}/{bio_labels.size}\")\n",
    "\n",
    "EPOCH= 100\n",
    "model_list= []\n",
    "mae_list= []\n",
    "\n",
    "for i in range(EPOCH):\n",
    "  X_train, X_test, y_train, y_test= train_test_split(bio_feature_matrix, bio_labels, test_size= .3)\n",
    "  model = FiberPredictor().fit(X_train, y_train)\n",
    "\n",
    "  y_pred= model.predict(X_test)\n",
    "\n",
    "  mae= mean_absolute_error(y_test, y_pred)\n",
    "\n",
    "  model_list.append(model)\n",
    "  mae_list.append(mae)\n",
    "  # print(f\"EPOCH {i+1}| Mean Absolute Error: {mae:.3f}\")\n",
    "\n",
    "best_model= model_list[mae_list.index(min(mae_list))]\n",
    "print(f\"Best Model MAE: {min(mae_list) :.2f} | Mean MAE: {sum(mae_list)/EPOCH :.2f}\")\n",
    "\n",
    "# Save the model\n",
    "with open(\"./pickles/bio_model.pkl\", 'wb') as f:\n",
    "    pickle.dump(best_model, f)\n",
    "    \n",
    "print(\"*\"*50)\n",
    "mae_b2b= mean_absolute_error(y_test, best_model.predict(X_test))\n",
    "print(f\"Train: bio_train_random => Predict: bio_test_random | MAE: {mae_b2b :.2f}\")\n",
    "\n",
    "mae_b2d= mean_absolute_error(diff_labels, best_model.predict(diff_feature_matrix))\n",
    "print(f\"Train: bio => Predict: diff | MAE: {mae_b2d :.2f}\")"
   ]
  },
  {
   "cell_type": "code",
   "execution_count": 6,
   "metadata": {},
   "outputs": [
    {
     "name": "stdout",
     "output_type": "stream",
     "text": [
      "Diffusion picture/label count: 608/608\n",
      "Best Model MAE: 6.97 | Mean MAE: 9.47\n",
      "**************************************************\n",
      "Train: diff_train_random => Predict: diff_test_random | MAE: 9.97\n",
      "Train: diff => Predict: bio | MAE: 19.53\n"
     ]
    }
   ],
   "source": [
    "print(f\"Diffusion picture/label count: {diff_feature_matrix.shape[0]}/{diff_labels.size}\")\n",
    "\n",
    "EPOCH= 100\n",
    "model_list= []\n",
    "mae_list= []\n",
    "\n",
    "for i in range(EPOCH):\n",
    "  X_train, X_test, y_train, y_test= train_test_split(diff_feature_matrix, diff_labels, test_size= .3)\n",
    "  model= FiberPredictor().fit(X_train, y_train)\n",
    "\n",
    "  y_pred= model.predict(X_test)\n",
    "\n",
    "  mae= mean_absolute_error(y_test, y_pred)\n",
    "\n",
    "  model_list.append(model)\n",
    "  mae_list.append(mae)\n",
    "  # print(f\"EPOCH {i+1}| Mean Absolute Error: {mae:.3f}\")\n",
    "\n",
    "best_model= model_list[mae_list.index(min(mae_list))]\n",
    "print(f\"Best Model MAE: {min(mae_list) :.2f} | Mean MAE: {sum(mae_list)/EPOCH :.2f}\")\n",
    "\n",
    "# Save the model\n",
    "with open(\"./pickles/diff_model.pkl\", 'wb') as f:\n",
    "    pickle.dump(best_model, f)\n",
    "\n",
    "print(\"*\"*50)\n",
    "mae_d2d= mean_absolute_error(y_test, best_model.predict(X_test))\n",
    "print(f\"Train: diff_train_random => Predict: diff_test_random | MAE: {mae_d2d :.2f}\")\n",
    "\n",
    "mae_d2b= mean_absolute_error(bio_labels, best_model.predict(bio_feature_matrix))\n",
    "print(f\"Train: diff => Predict: bio | MAE: {mae_d2b :.2f}\")"
   ]
  },
  {
   "cell_type": "code",
   "execution_count": 7,
   "metadata": {},
   "outputs": [
    {
     "name": "stdout",
     "output_type": "stream",
     "text": [
      "Combined picture/label count: 1281/1281\n",
      "Best Model MAE: 8.80 | Mean MAE: 11.27\n",
      "**************************************************\n",
      "Train: comb_train_random => Predict: comb_test_random | MAE: 10.82\n",
      "Train: comb => Predict: bio | MAE: 12.73\n",
      "Train: comb => Predict: diff | MAE: 8.71\n"
     ]
    }
   ],
   "source": [
    "combined_feature_matrix= np.append(bio_feature_matrix, diff_feature_matrix, axis= 0)\n",
    "combined_labels= np.append(bio_labels, diff_labels)\n",
    "print(f\"Combined picture/label count: {combined_feature_matrix.shape[0]}/{combined_labels.size}\")\n",
    "\n",
    "EPOCH= 100\n",
    "model_list= []\n",
    "mae_list= []\n",
    "\n",
    "for i in range(EPOCH):\n",
    "  X_train, X_test, y_train, y_test= train_test_split(combined_feature_matrix, combined_labels, test_size= .3)\n",
    "  model= FiberPredictor().fit(X_train, y_train)\n",
    "\n",
    "  y_pred= model.predict(X_test)\n",
    "\n",
    "  mae= mean_absolute_error(y_test, y_pred)\n",
    "\n",
    "  model_list.append(model)\n",
    "  mae_list.append(mae)\n",
    "  # print(f\"EPOCH {i+1}| Mean Absolute Error: {mae:.3f}\")\n",
    "\n",
    "best_model= model_list[mae_list.index(min(mae_list))]\n",
    "print(f\"Best Model MAE: {min(mae_list) :.2f} | Mean MAE: {sum(mae_list)/EPOCH :.2f}\")\n",
    "\n",
    "# Save the model\n",
    "with open(\"./pickles/combined_model.pkl\", 'wb') as f:\n",
    "    pickle.dump(best_model, f)\n",
    "\n",
    "\n",
    "print(\"*\"*50)\n",
    "mae_c2c= mean_absolute_error(y_test, best_model.predict(X_test))\n",
    "print(f\"Train: comb_train_random => Predict: comb_test_random | MAE: {mae_c2c :.2f}\")\n",
    "\n",
    "mae_c2b= mean_absolute_error(bio_labels, best_model.predict(bio_feature_matrix))\n",
    "print(f\"Train: comb => Predict: bio | MAE: {mae_c2b :.2f}\")\n",
    "\n",
    "mae_c2d= mean_absolute_error(diff_labels, best_model.predict(diff_feature_matrix))\n",
    "print(f\"Train: comb => Predict: diff | MAE: {mae_c2d :.2f}\")"
   ]
  },
  {
   "cell_type": "markdown",
   "metadata": {},
   "source": [
    "## Augmented Models\n"
   ]
  },
  {
   "cell_type": "code",
   "execution_count": 8,
   "metadata": {},
   "outputs": [
    {
     "name": "stdout",
     "output_type": "stream",
     "text": [
      "Total picture/label count: 4711/4711\n"
     ]
    }
   ],
   "source": [
    "file_dir= \"images/bio/\"\n",
    "csv_dir= \"images/bio/labels.csv\"\n",
    "\n",
    "bio_feature_matrix, bio_labels, bio_img_directories= get_data(file_dir, csv_dir, augment=True)\n",
    "print(f\"Total picture/label count: {bio_img_directories.size}/{bio_labels.size}\")\n",
    "\n",
    "file_dir= \"images/diffusion/diffusion_voxels/\"\n",
    "csv_dir= \"images/diffusion/diffusion_voxels/labels.csv\"\n",
    "\n",
    "diff_feature_matrix, diff_labels, diff_img_directories= get_data(file_dir, csv_dir, 2001)"
   ]
  },
  {
   "cell_type": "code",
   "execution_count": 9,
   "metadata": {},
   "outputs": [],
   "source": [
    "# Create a mask to filter the data\n",
    "mask = np.zeros(bio_labels.shape, dtype=bool)\n",
    "\n",
    "angle_range = 5\n",
    "for angle in range(0, 181, angle_range):\n",
    "    indices = np.where((bio_labels >= angle) & (bio_labels < angle + angle_range))[0]\n",
    "    np.random.shuffle(indices)\n",
    "    mask[indices[:30]] = True\n",
    "\n",
    "# Apply the mask to the feature matrix, labels, and image directories\n",
    "bio_feature_matrix = bio_feature_matrix[mask]\n",
    "bio_labels = bio_labels[mask]\n",
    "bio_img_directories = bio_img_directories[mask]\n"
   ]
  },
  {
   "cell_type": "code",
   "execution_count": 10,
   "metadata": {},
   "outputs": [
    {
     "name": "stdout",
     "output_type": "stream",
     "text": [
      "Total sampled picture/label count: 1065/1065\n"
     ]
    },
    {
     "data": {
      "image/png": "[encoded data removed]",
      "text/plain": [
       "<Figure size 640x480 with 1 Axes>"
      ]
     },
     "metadata": {},
     "output_type": "display_data"
    },
    {
     "data": {
      "image/png": "[encoded data removed]",
      "text/plain": [
       "<Figure size 640x480 with 1 Axes>"
      ]
     },
     "metadata": {},
     "output_type": "display_data"
    }
   ],
   "source": [
    "print(f\"Total sampled picture/label count: {bio_img_directories.size}/{bio_labels.size}\")\n",
    "plt.hist(bio_labels, bins=180//angle_range)\n",
    "plt.xticks(np.arange(0, 181, 20))\n",
    "\n",
    "plt.figure()\n",
    "plt.hist([diff_labels, bio_labels], bins= np.arange(0, 181, 20), stacked= True, align=\"mid\")\n",
    "\n",
    "plt.xticks(np.arange(0, 181, 20))\n",
    "plt.ylabel(\"Count\")\n",
    "plt.xlabel(\"Angle\")\n",
    "plt.legend([\"Diffusion\", \"Biological\"])\n",
    "plt.grid()\n"
   ]
  },
  {
   "cell_type": "code",
   "execution_count": 11,
   "metadata": {},
   "outputs": [
    {
     "name": "stdout",
     "output_type": "stream",
     "text": [
      "Biological picture/label count: 1065/1065\n",
      "Best Model MAE: 12.21 | Mean MAE: 15.72\n",
      "**************************************************\n",
      "Train: bio_train_random => Predict: bio_test_random | MAE: 14.75\n",
      "Train: bio => Predict: diff | MAE: 9.22\n"
     ]
    }
   ],
   "source": [
    "print(f\"Biological picture/label count: {bio_feature_matrix.shape[0]}/{bio_labels.size}\")\n",
    "\n",
    "EPOCH= 100\n",
    "model_list= []\n",
    "mae_list= []\n",
    "\n",
    "for i in range(EPOCH):\n",
    "  X_train, X_test, y_train, y_test= train_test_split(bio_feature_matrix, bio_labels, test_size= .3)\n",
    "  model= FiberPredictor().fit(X_train, y_train)\n",
    "\n",
    "  y_pred= model.predict(X_test)\n",
    "\n",
    "  mae= mean_absolute_error(y_test, y_pred)\n",
    "\n",
    "  model_list.append(model)\n",
    "  mae_list.append(mae)\n",
    "  # print(f\"EPOCH {i+1}| Mean Absolute Error: {mae:.3f}\")\n",
    "\n",
    "best_model= model_list[mae_list.index(min(mae_list))]\n",
    "print(f\"Best Model MAE: {min(mae_list) :.2f} | Mean MAE: {sum(mae_list)/EPOCH :.2f}\")\n",
    "\n",
    "# Save the model\n",
    "with open(\"./pickles/A_bio_model.pkl\", 'wb') as f:\n",
    "    pickle.dump(best_model, f)\n",
    "    \n",
    "print(\"*\"*50)\n",
    "mae_b2b= mean_absolute_error(y_test, best_model.predict(X_test))\n",
    "print(f\"Train: bio_train_random => Predict: bio_test_random | MAE: {mae_b2b :.2f}\")\n",
    "\n",
    "mae_b2d= mean_absolute_error(diff_labels, best_model.predict(diff_feature_matrix))\n",
    "print(f\"Train: bio => Predict: diff | MAE: {mae_b2d :.2f}\")"
   ]
  },
  {
   "cell_type": "code",
   "execution_count": 12,
   "metadata": {},
   "outputs": [
    {
     "name": "stdout",
     "output_type": "stream",
     "text": [
      "Diffusion picture/label count: 608/608\n",
      "Best Model MAE: 6.00 | Mean MAE: 9.82\n",
      "**************************************************\n",
      "Train: diff_train_random => Predict: diff_test_random | MAE: 9.43\n",
      "Train: diff => Predict: bio | MAE: 16.51\n"
     ]
    }
   ],
   "source": [
    "print(f\"Diffusion picture/label count: {diff_feature_matrix.shape[0]}/{diff_labels.size}\")\n",
    "\n",
    "EPOCH= 100\n",
    "model_list= []\n",
    "mae_list= []\n",
    "\n",
    "for i in range(EPOCH):\n",
    "  X_train, X_test, y_train, y_test= train_test_split(diff_feature_matrix, diff_labels, test_size= .3)\n",
    "  model= FiberPredictor().fit(X_train, y_train)\n",
    "\n",
    "  y_pred= model.predict(X_test)\n",
    "\n",
    "  mae= mean_absolute_error(y_test, y_pred)\n",
    "\n",
    "  model_list.append(model)\n",
    "  mae_list.append(mae)\n",
    "  # print(f\"EPOCH {i+1}| Mean Absolute Error: {mae:.3f}\")\n",
    "\n",
    "best_model= model_list[mae_list.index(min(mae_list))]\n",
    "print(f\"Best Model MAE: {min(mae_list) :.2f} | Mean MAE: {sum(mae_list)/EPOCH :.2f}\")\n",
    "\n",
    "# Save the model\n",
    "with open(\"./pickles/A_diff_model.pkl\", 'wb') as f:\n",
    "    pickle.dump(best_model, f)\n",
    "\n",
    "print(\"*\"*50)\n",
    "mae_d2d= mean_absolute_error(y_test, best_model.predict(X_test))\n",
    "print(f\"Train: diff_train_random => Predict: diff_test_random | MAE: {mae_d2d :.2f}\")\n",
    "\n",
    "mae_d2b= mean_absolute_error(bio_labels, best_model.predict(bio_feature_matrix))\n",
    "print(f\"Train: diff => Predict: bio | MAE: {mae_d2b :.2f}\")"
   ]
  },
  {
   "cell_type": "code",
   "execution_count": 13,
   "metadata": {},
   "outputs": [
    {
     "name": "stdout",
     "output_type": "stream",
     "text": [
      "Combined picture/label count: 1673/1673\n",
      "Best Model MAE: 10.75 | Mean MAE: 13.17\n",
      "**************************************************\n",
      "Train: comb_train_random => Predict: comb_test_random | MAE: 11.80\n",
      "Train: comb => Predict: bio | MAE: 15.02\n",
      "Train: comb => Predict: diff | MAE: 8.77\n"
     ]
    }
   ],
   "source": [
    "combined_feature_matrix= np.append(bio_feature_matrix, diff_feature_matrix, axis= 0)\n",
    "combined_labels= np.append(bio_labels, diff_labels)\n",
    "print(f\"Combined picture/label count: {combined_feature_matrix.shape[0]}/{combined_labels.size}\")\n",
    "\n",
    "EPOCH= 100\n",
    "model_list= []\n",
    "mae_list= []\n",
    "\n",
    "for i in range(EPOCH):\n",
    "  X_train, X_test, y_train, y_test= train_test_split(combined_feature_matrix, combined_labels, test_size= .3)\n",
    "  model= FiberPredictor().fit(X_train, y_train)\n",
    "\n",
    "  y_pred= model.predict(X_test)\n",
    "\n",
    "  mae= mean_absolute_error(y_test, y_pred)\n",
    "\n",
    "  model_list.append(model)\n",
    "  mae_list.append(mae)\n",
    "  # print(f\"EPOCH {i+1}| Mean Absolute Error: {mae:.3f}\")\n",
    "\n",
    "best_model= model_list[mae_list.index(min(mae_list))]\n",
    "print(f\"Best Model MAE: {min(mae_list) :.2f} | Mean MAE: {sum(mae_list)/EPOCH :.2f}\")\n",
    "\n",
    "# Save the model\n",
    "with open(\"./pickles/A_combined_model.pkl\", 'wb') as f:\n",
    "    pickle.dump(best_model, f)\n",
    "\n",
    "\n",
    "print(\"*\"*50)\n",
    "mae_c2c= mean_absolute_error(y_test, best_model.predict(X_test))\n",
    "print(f\"Train: comb_train_random => Predict: comb_test_random | MAE: {mae_c2c :.2f}\")\n",
    "\n",
    "mae_c2b= mean_absolute_error(bio_labels, best_model.predict(bio_feature_matrix))\n",
    "print(f\"Train: comb => Predict: bio | MAE: {mae_c2b :.2f}\")\n",
    "\n",
    "mae_c2d= mean_absolute_error(diff_labels, best_model.predict(diff_feature_matrix))\n",
    "print(f\"Train: comb => Predict: diff | MAE: {mae_c2d :.2f}\")"
   ]
  },
  {
   "cell_type": "code",
   "execution_count": null,
   "metadata": {},
   "outputs": [],
   "source": []
  }
 ],
 "metadata": {
  "kernelspec": {
   "display_name": ".venv",
   "language": "python",
   "name": "python3"
  },
  "language_info": {
   "codemirror_mode": {
    "name": "ipython",
    "version": 3
   },
   "file_extension": ".py",
   "mimetype": "text/x-python",
   "name": "python",
   "nbconvert_exporter": "python",
   "pygments_lexer": "ipython3",
   "version": "3.10.0"
  },
  "orig_nbformat": 4
 },
 "nbformat": 4,
 "nbformat_minor": 2
}
