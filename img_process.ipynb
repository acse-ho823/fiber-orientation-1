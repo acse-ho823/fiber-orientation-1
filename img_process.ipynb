{
 "cells": [
  {
   "cell_type": "code",
   "execution_count": 23,
   "metadata": {},
   "outputs": [],
   "source": [
    "from PIL import Image\n",
    "import os\n",
    "import numpy as np\n",
    "import matplotlib.pyplot as plt"
   ]
  },
  {
   "cell_type": "code",
   "execution_count": 24,
   "metadata": {},
   "outputs": [],
   "source": [
    "def slice_image(image_path, voxel_size, flip= False):\n",
    "    image= Image.open(image_path)\n",
    "    image= image.convert('L')\n",
    "    image_width, image_height = image.size\n",
    "    sliced_list= []\n",
    "    pos_list= []\n",
    "\n",
    "    for y in range(0, image_height-voxel_size, voxel_size):\n",
    "        for x in range(0, image_width-voxel_size, voxel_size):\n",
    "            box = (x, y, x + voxel_size, y + voxel_size)\n",
    "            voxel = image.crop(box)\n",
    "\n",
    "            if flip:\n",
    "                voxel= voxel.transpose(Image.FLIP_LEFT_RIGHT)\n",
    "\n",
    "            sliced_list.append(voxel)\n",
    "            pos_list.append((x, y))\n",
    "\n",
    "    return sliced_list, pos_list\n",
    "\n",
    "def check_image(image, pos):\n",
    "    img= np.array(image)\n",
    "    x, y= pos\n",
    "    valid= True\n",
    "    # print(f\"{x}, {y}\")\n",
    "\n",
    "    if x > 500 and y > 600:\n",
    "        valid= False\n",
    "\n",
    "    if np.mean(img) < .3*256 or np.mean(img) > .7*256:\n",
    "        valid= False\n",
    "\n",
    "    return valid"
   ]
  },
  {
   "cell_type": "code",
   "execution_count": 25,
   "metadata": {},
   "outputs": [
    {
     "data": {
      "image/png": "[encoded data removed]",
      "text/plain": [
       "<Figure size 200x200 with 1 Axes>"
      ]
     },
     "metadata": {},
     "output_type": "display_data"
    }
   ],
   "source": [
    "SAVE_FLAG= True\n",
    "RENAME_FLAG= True\n",
    "NAME_NO= True\n",
    "file_no= 2716\n",
    "VOXEL_SIZE= 50\n",
    "\n",
    "output_folder= \"./diffusion/diffusion_voxels\"\n",
    "input_folder= \"./diffusion/source/\"\n",
    "\n",
    "file_list= [file for file in os.listdir(input_folder) if file.endswith(\".png\") and not file.startswith(\"*\")]\n",
    "for img_name in file_list:\n",
    "    img_dir= input_folder + img_name\n",
    "    voxel_list, pos_list= slice_image(img_dir, VOXEL_SIZE, True)\n",
    "    valid_count, invalid_count= 0, 0\n",
    "    for voxel, pos in zip(voxel_list, pos_list):\n",
    "        x, y= pos\n",
    "        if check_image(voxel, pos):\n",
    "            valid_count += 1\n",
    "            if SAVE_FLAG:\n",
    "                if NAME_NO:\n",
    "                    file_name= f\"{output_folder}/{file_no}.png\"\n",
    "                    file_no += 1\n",
    "                else:\n",
    "                    file_name= f\"{output_folder}/{img_name[:3]}_{x}_{y}.png\"\n",
    "                voxel.save(file_name)\n",
    "        else:\n",
    "            invalid_count += 1\n",
    "    new_name= input_folder + \"*\" + img_name\n",
    "\n",
    "    plt.figure(figsize= (2, 2))\n",
    "    plt.imshow(Image.open(img_dir))\n",
    "    plt.axis(\"off\")\n",
    "    plt.title(f\"Img:{img_name[:3]} | Valid/Invalid voxels: {valid_count} / {invalid_count} \", fontsize= 7)\n",
    "        \n",
    "    if SAVE_FLAG:\n",
    "        os.rename(img_dir, new_name)\n"
   ]
  }
 ],
 "metadata": {
  "kernelspec": {
   "display_name": ".venv",
   "language": "python",
   "name": "python3"
  },
  "language_info": {
   "codemirror_mode": {
    "name": "ipython",
    "version": 3
   },
   "file_extension": ".py",
   "mimetype": "text/x-python",
   "name": "python",
   "nbconvert_exporter": "python",
   "pygments_lexer": "ipython3",
   "version": "3.10.0"
  },
  "orig_nbformat": 4
 },
 "nbformat": 4,
 "nbformat_minor": 2
}
