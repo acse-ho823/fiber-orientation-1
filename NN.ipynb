{
 "cells": [
  {
   "cell_type": "code",
   "execution_count": 22,
   "metadata": {},
   "outputs": [],
   "source": [
    "import numpy as np\n",
    "import cv2\n",
    "import matplotlib.pyplot as plt\n",
    "import os\n",
    "\n",
    "from sklearn.model_selection import train_test_split\n",
    "\n",
    "import tensorflow as tf\n",
    "from tensorflow.keras import layers, models\n",
    "from tensorflow.keras.preprocessing.image import ImageDataGenerator"
   ]
  },
  {
   "cell_type": "code",
   "execution_count": 23,
   "metadata": {},
   "outputs": [],
   "source": [
    "from IPython.display import clear_output\n",
    "\n",
    "X= []\n",
    "img_directories= []\n",
    "for i in range(0, 1300):\n",
    "    img_dir= \"./pictures/\" + str(i) + \".png\"\n",
    "    \n",
    "    img= cv2.imread(img_dir, cv2.IMREAD_GRAYSCALE)\n",
    "    if type(img) == np.ndarray:\n",
    "        X.append(img)\n",
    "        img_directories.append(img_dir)\n",
    "    \n",
    "clear_output()\n",
    "\n",
    "X= np.array(X)\n",
    "\n",
    "with open(\"labels.csv\") as f:\n",
    "    l= f.read()\n",
    "    try: # Mac\n",
    "        int(l[1:2])\n",
    "        l= l[1:]\n",
    "    except: # Windows\n",
    "        l= l[3:]\n",
    "    \n",
    "    labels= np.array(l.split(), dtype= int)\n",
    "y= np.array(labels[0:X.shape[0]])\n",
    "\n",
    "X_train, X_test, y_train, y_test, i_train, i_test= train_test_split(X, y, np.arange(y.size), test_size= .3, random_state= 0)"
   ]
  },
  {
   "cell_type": "code",
   "execution_count": 26,
   "metadata": {},
   "outputs": [],
   "source": [
    "model = models.Sequential()\n",
    "\n",
    "model.add(layers.Conv2D(32, (3, 3), activation=\"relu\", input_shape=[50, 50, 1]))\n",
    "model.add(layers.MaxPooling2D((2, 2)))\n",
    "\n",
    "model.add(layers.Conv2D(64, (3, 3), activation=\"relu\"))\n",
    "model.add(layers.MaxPooling2D((2, 2)))\n",
    "\n",
    "model.add(layers.Conv2D(128, (3, 3), activation=\"relu\"))\n",
    "model.add(layers.MaxPooling2D((2, 2)))\n",
    "\n",
    "# model.add(layers.Conv2D(256, (3, 3), activation=\"relu\"))\n",
    "# model.add(layers.MaxPooling2D((2, 2)))\n",
    "\n",
    "# Flatten the output from convolutional layers\n",
    "model.add(layers.Flatten())\n",
    "\n",
    "# Dense layers with dropout regularization\n",
    "model.add(layers.Dense(256, activation=\"relu\"))\n",
    "model.add(layers.Dropout(0.5))  # Add dropout for regularization\n",
    "\n",
    "model.add(layers.Dense(128, activation=\"relu\"))\n",
    "model.add(layers.Dropout(0.5))  # Add dropout for regularization\n",
    "\n",
    "model.add(layers.Dense(64, activation=\"relu\"))\n",
    "\n",
    "# Output layer with 1 neuron for regression\n",
    "model.add(layers.Dense(1))"
   ]
  },
  {
   "cell_type": "code",
   "execution_count": 27,
   "metadata": {},
   "outputs": [
    {
     "name": "stdout",
     "output_type": "stream",
     "text": [
      "Epoch 1/10\n",
      "64/64 [==============================] - 4s 30ms/step - loss: 4687.9868 - mean_absolute_error: 53.5340 - mean_squared_error: 4687.9868\n",
      "Epoch 2/10\n",
      "64/64 [==============================] - 2s 31ms/step - loss: 3820.8027 - mean_absolute_error: 47.6427 - mean_squared_error: 3820.8027\n",
      "Epoch 3/10\n",
      "64/64 [==============================] - 2s 29ms/step - loss: 3256.3989 - mean_absolute_error: 42.9678 - mean_squared_error: 3256.3989\n",
      "Epoch 4/10\n",
      "64/64 [==============================] - 2s 29ms/step - loss: 2754.6895 - mean_absolute_error: 39.4996 - mean_squared_error: 2754.6895\n",
      "Epoch 5/10\n",
      "64/64 [==============================] - 2s 29ms/step - loss: 2228.7039 - mean_absolute_error: 35.2587 - mean_squared_error: 2228.7039\n",
      "Epoch 6/10\n",
      "64/64 [==============================] - 2s 30ms/step - loss: 2019.1180 - mean_absolute_error: 33.3887 - mean_squared_error: 2019.1183\n",
      "Epoch 7/10\n",
      "64/64 [==============================] - 2s 31ms/step - loss: 1763.4852 - mean_absolute_error: 31.5628 - mean_squared_error: 1763.4852\n",
      "Epoch 8/10\n",
      "64/64 [==============================] - 2s 31ms/step - loss: 1415.1123 - mean_absolute_error: 27.7905 - mean_squared_error: 1415.1125\n",
      "Epoch 9/10\n",
      "64/64 [==============================] - 2s 30ms/step - loss: 1505.5985 - mean_absolute_error: 28.7633 - mean_squared_error: 1505.5985\n",
      "Epoch 10/10\n",
      "64/64 [==============================] - 2s 30ms/step - loss: 1397.6454 - mean_absolute_error: 28.1657 - mean_squared_error: 1397.6454\n",
      "11/11 [==============================] - 0s 15ms/step - loss: 1497.7386 - mean_absolute_error: 28.8420 - mean_squared_error: 1497.7386\n",
      "Test MAE: 28.84\n"
     ]
    }
   ],
   "source": [
    "# Step 3: Compile the model\n",
    "optimizer = tf.keras.optimizers.Adam(learning_rate= 0.001)\n",
    "model.compile(optimizer=\"adam\",\n",
    "              loss=\"MeanSquaredError\",\n",
    "              metrics=[\"MeanAbsoluteError\", \"MeanSquaredError\"])\n",
    "\n",
    "\n",
    "# Step 4: Training\n",
    "model.fit(X_train, y_train, epochs= 10, batch_size= 12)\n",
    "\n",
    "# Step 5: Evaluation\n",
    "test_loss, test_mae, test_mse= model.evaluate(X_test, y_test)\n",
    "print(f\"Test MAE: {test_mae:.2f}\")\n"
   ]
  }
 ],
 "metadata": {
  "kernelspec": {
   "display_name": ".venv",
   "language": "python",
   "name": "python3"
  },
  "language_info": {
   "codemirror_mode": {
    "name": "ipython",
    "version": 3
   },
   "file_extension": ".py",
   "mimetype": "text/x-python",
   "name": "python",
   "nbconvert_exporter": "python",
   "pygments_lexer": "ipython3",
   "version": "3.10.0"
  },
  "orig_nbformat": 4
 },
 "nbformat": 4,
 "nbformat_minor": 2
}
