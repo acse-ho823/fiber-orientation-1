{
 "cells": [
  {
   "cell_type": "code",
   "execution_count": 33,
   "metadata": {},
   "outputs": [],
   "source": [
    "import numpy as np\n",
    "import cv2\n",
    "import matplotlib.pyplot as plt\n",
    "import os\n",
    "\n",
    "from sklearn.model_selection import train_test_split\n",
    "\n",
    "import tensorflow as tf\n",
    "from tensorflow.keras import layers, models\n",
    "from tensorflow.keras.preprocessing.image import ImageDataGenerator"
   ]
  },
  {
   "cell_type": "code",
   "execution_count": 34,
   "metadata": {},
   "outputs": [],
   "source": [
    "from IPython.display import clear_output\n",
    "\n",
    "X= []\n",
    "img_directories= []\n",
    "for i in range(0, 1300):\n",
    "    img_dir= \"./pictures/\" + str(i) + \".png\"\n",
    "    \n",
    "    img= cv2.imread(img_dir, cv2.IMREAD_GRAYSCALE)\n",
    "    if type(img) == np.ndarray:\n",
    "        X.append(img)\n",
    "        img_directories.append(img_dir)\n",
    "    \n",
    "clear_output()\n",
    "\n",
    "X= np.array(X)\n",
    "\n",
    "with open(\"labels.csv\") as f:\n",
    "    l= f.read()\n",
    "    try: # Mac\n",
    "        int(l[1:2])\n",
    "        l= l[1:]\n",
    "    except: # Windows\n",
    "        l= l[3:]\n",
    "    \n",
    "    labels= np.array(l.split(), dtype= int)\n",
    "y= np.array(labels[0:X.shape[0]])\n",
    "\n",
    "X_train, X_test, y_train, y_test, i_train, i_test= train_test_split(X, y, np.arange(y.size), test_size= .3, random_state= 0)"
   ]
  },
  {
   "cell_type": "code",
   "execution_count": 45,
   "metadata": {},
   "outputs": [],
   "source": [
    "model = models.Sequential()\n",
    "\n",
    "model.add(layers.Conv2D(32, (3, 3), activation=\"relu\", input_shape=[50, 50, 1]))\n",
    "model.add(layers.MaxPooling2D((2, 2)))\n",
    "\n",
    "model.add(layers.Conv2D(64, (3, 3), activation=\"relu\"))\n",
    "model.add(layers.MaxPooling2D((2, 2)))\n",
    "\n",
    "model.add(layers.Conv2D(128, (3, 3), activation=\"relu\"))\n",
    "model.add(layers.MaxPooling2D((2, 2)))\n",
    "\n",
    "model.add(layers.Conv2D(256, (3, 3), activation=\"relu\"))\n",
    "model.add(layers.MaxPooling2D((2, 2)))\n",
    "\n",
    "# Flatten the output from convolutional layers\n",
    "model.add(layers.Flatten())\n",
    "\n",
    "# Dense layers with dropout regularization\n",
    "model.add(layers.Dense(256, activation=\"relu\"))\n",
    "model.add(layers.Dropout(0.3))  # Add dropout for regularization\n",
    "\n",
    "model.add(layers.Dense(128, activation=\"relu\"))\n",
    "model.add(layers.Dropout(0.3))  # Add dropout for regularization\n",
    "\n",
    "model.add(layers.Dense(64, activation=\"relu\"))\n",
    "\n",
    "# Output layer with 1 neuron for regression\n",
    "model.add(layers.Dense(1))"
   ]
  },
  {
   "cell_type": "code",
   "execution_count": 51,
   "metadata": {},
   "outputs": [
    {
     "name": "stdout",
     "output_type": "stream",
     "text": [
      "Epoch 1/10\n",
      "48/48 [==============================] - 5s 36ms/step - loss: 262.2004 - mean_absolute_error: 11.1773 - mean_squared_error: 262.2004\n",
      "Epoch 2/10\n",
      "48/48 [==============================] - 2s 34ms/step - loss: 302.8365 - mean_absolute_error: 11.4536 - mean_squared_error: 302.8365\n",
      "Epoch 3/10\n",
      "48/48 [==============================] - 2s 34ms/step - loss: 261.7049 - mean_absolute_error: 11.4707 - mean_squared_error: 261.7049\n",
      "Epoch 4/10\n",
      "48/48 [==============================] - 2s 35ms/step - loss: 266.1553 - mean_absolute_error: 11.7845 - mean_squared_error: 266.1553\n",
      "Epoch 5/10\n",
      "48/48 [==============================] - 2s 34ms/step - loss: 245.9942 - mean_absolute_error: 10.9618 - mean_squared_error: 245.9942\n",
      "Epoch 6/10\n",
      "48/48 [==============================] - 2s 35ms/step - loss: 281.7419 - mean_absolute_error: 11.3081 - mean_squared_error: 281.7419\n",
      "Epoch 7/10\n",
      "48/48 [==============================] - 2s 36ms/step - loss: 312.3407 - mean_absolute_error: 11.8516 - mean_squared_error: 312.3407\n",
      "Epoch 8/10\n",
      "48/48 [==============================] - 2s 34ms/step - loss: 274.6998 - mean_absolute_error: 10.9042 - mean_squared_error: 274.6998\n",
      "Epoch 9/10\n",
      "48/48 [==============================] - 2s 37ms/step - loss: 239.1765 - mean_absolute_error: 10.7457 - mean_squared_error: 239.1765\n",
      "Epoch 10/10\n",
      "48/48 [==============================] - 2s 36ms/step - loss: 197.3814 - mean_absolute_error: 9.7023 - mean_squared_error: 197.3814\n",
      "11/11 [==============================] - 1s 13ms/step - loss: 1417.9890 - mean_absolute_error: 25.9748 - mean_squared_error: 1417.9890\n",
      "Test MAE: 25.97\n"
     ]
    }
   ],
   "source": [
    "# Step 3: Compile the model\n",
    "optimizer = tf.keras.optimizers.Adam(learning_rate= 0.001)\n",
    "model.compile(optimizer= \"adam\",\n",
    "              loss= \"MeanSquaredError\",\n",
    "              metrics= [\"MeanAbsoluteError\", \"MeanSquaredError\"])\n",
    "\n",
    "# Step 4: Training\n",
    "model.fit(X_train, y_train, epochs= 10, batch_size= 16)\n",
    "\n",
    "# Step 5: Evaluation\n",
    "test_loss, test_mae, test_mse= model.evaluate(X_test, y_test)\n",
    "print(f\"Test MAE: {test_mae:.2f}\")\n"
   ]
  }
 ],
 "metadata": {
  "kernelspec": {
   "display_name": ".venv",
   "language": "python",
   "name": "python3"
  },
  "language_info": {
   "codemirror_mode": {
    "name": "ipython",
    "version": 3
   },
   "file_extension": ".py",
   "mimetype": "text/x-python",
   "name": "python",
   "nbconvert_exporter": "python",
   "pygments_lexer": "ipython3",
   "version": "3.10.0"
  },
  "orig_nbformat": 4
 },
 "nbformat": 4,
 "nbformat_minor": 2
}
